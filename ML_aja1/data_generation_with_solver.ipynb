{
 "cells": [
  {
   "cell_type": "markdown",
   "id": "6d946858",
   "metadata": {},
   "source": [
    "## Generate Data Dummy\n",
    "jgn generate lg ntar beda data lagi"
   ]
  },
  {
   "cell_type": "code",
   "execution_count": 1,
   "id": "f94a91b5",
   "metadata": {},
   "outputs": [],
   "source": [
    "import pandas as pd\n",
    "import random"
   ]
  },
  {
   "cell_type": "code",
   "execution_count": 2,
   "id": "687dcf29",
   "metadata": {},
   "outputs": [],
   "source": [
    "# Nilai kemungkinan untuk tiap atribut\n",
    "outlooks = ['Sunny', 'Cloudy', 'Rainy']\n",
    "temperatures = ['Hot', 'Mild', 'Cool']\n",
    "humidities = ['High', 'Normal']\n",
    "windy_vals = [True, False]\n",
    "\n",
    "# Fungsi sederhana untuk menentukan nilai PLAY\n",
    "def determine_play(outlook, humidity, windy):\n",
    "    if outlook == 'Sunny' and humidity == 'High':\n",
    "        return 'NO'\n",
    "    elif outlook == 'Rainy' and windy:\n",
    "        return 'NO'\n",
    "    else:\n",
    "        return 'YES'"
   ]
  },
  {
   "cell_type": "code",
   "execution_count": 5,
   "id": "dad3d74d",
   "metadata": {},
   "outputs": [],
   "source": [
    "# Generate 100 baris data dummy\n",
    "n_data = 100\n",
    "data = []\n",
    "for i in range(n_data):     #ubah ini aja buat generate n-baris\n",
    "    outlook = random.choice(outlooks)\n",
    "    temperature = random.choice(temperatures)\n",
    "    humidity = random.choice(humidities)\n",
    "    windy = random.choice(windy_vals)\n",
    "    play = determine_play(outlook, humidity, windy)\n",
    "    data.append([i+1, outlook, temperature, humidity, windy, play])"
   ]
  },
  {
   "cell_type": "code",
   "execution_count": 6,
   "id": "2efb2d04",
   "metadata": {},
   "outputs": [
    {
     "name": "stdout",
     "output_type": "stream",
     "text": [
      "File berhasil disimpan sebagai 'dummy_weather_data_100.csv'\n"
     ]
    }
   ],
   "source": [
    "df = pd.DataFrame(data, columns=[\"ID\", \"OUTLOOK\", \"TEMPERATUR\", \"HUMIDITY\", \"WINDY\", \"PLAY\"])\n",
    "df.to_csv(f\"dummy_weather_data_{n_data}.csv\", index=False)\n",
    "\n",
    "print(f\"File berhasil disimpan sebagai 'dummy_weather_data_{n_data}.csv'\")\n"
   ]
  },
  {
   "cell_type": "markdown",
   "id": "a374a7ca",
   "metadata": {},
   "source": [
    "## Inferensi Naive Bayes"
   ]
  },
  {
   "cell_type": "code",
   "execution_count": 18,
   "id": "3b0fda1a",
   "metadata": {},
   "outputs": [
    {
     "name": "stdout",
     "output_type": "stream",
     "text": [
      "<class 'pandas.core.frame.DataFrame'>\n",
      "RangeIndex: 100 entries, 0 to 99\n",
      "Data columns (total 6 columns):\n",
      " #   Column      Non-Null Count  Dtype \n",
      "---  ------      --------------  ----- \n",
      " 0   ID          100 non-null    int64 \n",
      " 1   OUTLOOK     100 non-null    object\n",
      " 2   TEMPERATUR  100 non-null    object\n",
      " 3   HUMIDITY    100 non-null    object\n",
      " 4   WINDY       100 non-null    bool  \n",
      " 5   PLAY        100 non-null    object\n",
      "dtypes: bool(1), int64(1), object(4)\n",
      "memory usage: 4.1+ KB\n"
     ]
    }
   ],
   "source": [
    "dummy_df = pd.read_csv(f'./dummy_weather_data_100.csv')\n",
    "\n",
    "dummy_df.info()\n",
    "\n",
    "\n"
   ]
  },
  {
   "cell_type": "code",
   "execution_count": null,
   "id": "cd8d94ba",
   "metadata": {},
   "outputs": [],
   "source": [
    "def naive_bayes_classifier(df, x):\n",
    "    \n",
    "    total_samples = len(df)\n",
    "    prior = df['PLAY'].value_counts()\n",
    "    \n",
    "    # Calculate conditional probabilities P(X|Y) for each feature\n",
    "    n_yes = prior['YES']\n",
    "    n_no = prior['NO']\n",
    "\n",
    "    prob_yes =n_yes/(n_yes+n_no)\n",
    "    prob_no =n_no/(n_yes+n_no)\n",
    "    \n",
    "    # For each feature in x, multiply by P(X|Y)\n",
    "    for feature, value in x.items():\n",
    "        # P(feature|YES)\n",
    "        p_feature_yes = len(df[(df[feature] == value) & (df['PLAY'] == 'YES')]) / len(df[df['PLAY'] == 'YES'])\n",
    "        # P(feature|NO)\n",
    "        p_feature_no = len(df[(df[feature] == value) & (df['PLAY'] == 'NO')]) / len(df[df['PLAY'] == 'NO'])\n",
    "        \n",
    "        # Multiply probabilities\n",
    "        prob_yes *= p_feature_yes\n",
    "        prob_no *= p_feature_no\n",
    "    \n",
    "    if prob_yes > prob_no:\n",
    "        return 'YES', prob_yes\n",
    "    else:\n",
    "        return 'NO', prob_no"
   ]
  },
  {
   "cell_type": "code",
   "execution_count": 21,
   "id": "7931acdd",
   "metadata": {},
   "outputs": [
    {
     "name": "stdout",
     "output_type": "stream",
     "text": [
      "Prediction: NO\n",
      "Probability: 0.03496\n"
     ]
    }
   ],
   "source": [
    "\n",
    "x = {\n",
    "    'OUTLOOK': 'Sunny',\n",
    "    'TEMPERATUR': 'Mild',\n",
    "    'HUMIDITY': 'High',\n",
    "    'WINDY': True\n",
    "}\n",
    "\n",
    "prediction, probability = naive_bayes_classifier(dummy_df, x)\n",
    "print(f\"Prediction: {prediction}\")\n",
    "print(f\"Probability: {probability:.5f}\")"
   ]
  },
  {
   "cell_type": "markdown",
   "id": "50ad87fd",
   "metadata": {},
   "source": []
  }
 ],
 "metadata": {
  "kernelspec": {
   "display_name": "dl",
   "language": "python",
   "name": "python3"
  },
  "language_info": {
   "codemirror_mode": {
    "name": "ipython",
    "version": 3
   },
   "file_extension": ".py",
   "mimetype": "text/x-python",
   "name": "python",
   "nbconvert_exporter": "python",
   "pygments_lexer": "ipython3",
   "version": "3.10.18"
  }
 },
 "nbformat": 4,
 "nbformat_minor": 5
}
